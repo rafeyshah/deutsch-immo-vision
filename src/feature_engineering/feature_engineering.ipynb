{
 "cells": [
  {
   "cell_type": "code",
   "execution_count": 11,
   "metadata": {},
   "outputs": [
    {
     "data": {
      "text/plain": [
       "Index(['regio1', 'serviceCharge', 'heatingType', 'telekomTvOffer',\n",
       "       'newlyConst', 'balcony', 'picturecount', 'pricetrend',\n",
       "       'telekomUploadSpeed', 'totalRent', 'yearConstructed', 'scoutId',\n",
       "       'firingTypes', 'hasKitchen', 'geo_bln', 'cellar',\n",
       "       'yearConstructedRange', 'baseRent', 'houseNumber', 'livingSpace',\n",
       "       'geo_krs', 'condition', 'interiorQual', 'petsAllowed', 'street',\n",
       "       'streetPlain', 'lift', 'baseRentRange', 'typeOfFlat', 'geo_plz',\n",
       "       'noRooms', 'thermalChar', 'floor', 'numberOfFloors', 'noRoomsRange',\n",
       "       'garden', 'livingSpaceRange', 'regio2', 'regio3', 'description',\n",
       "       'facilities', 'date'],\n",
       "      dtype='object')"
      ]
     },
     "execution_count": 11,
     "metadata": {},
     "output_type": "execute_result"
    }
   ],
   "source": [
    "# Import necessary libraries\n",
    "import pandas as pd\n",
    "import numpy as np\n",
    "\n",
    "# Load the dataset\n",
    "file_path = '../../data/cleaned_immo_data.csv'  # Update this path if needed\n",
    "data = pd.read_csv(file_path)\n",
    "\n",
    "# View the first few rows of the dataset\n",
    "data.columns"
   ]
  },
  {
   "cell_type": "markdown",
   "metadata": {},
   "source": [
    "#### Step 1: Calculate Property Age and Years Since Last Refurbishment\n"
   ]
  },
  {
   "cell_type": "code",
   "execution_count": 14,
   "metadata": {},
   "outputs": [
    {
     "name": "stderr",
     "output_type": "stream",
     "text": [
      "C:\\Users\\syeda\\AppData\\Local\\Temp\\ipykernel_15268\\1132760763.py:4: FutureWarning: A value is trying to be set on a copy of a DataFrame or Series through chained assignment using an inplace method.\n",
      "The behavior will change in pandas 3.0. This inplace method will never work because the intermediate object on which we are setting values always behaves as a copy.\n",
      "\n",
      "For example, when doing 'df[col].method(value, inplace=True)', try using 'df.method({col: value}, inplace=True)' or df[col] = df[col].method(value) instead, to perform the operation inplace on the original object.\n",
      "\n",
      "\n",
      "  data['property_age'].fillna(data['property_age'].median(), inplace=True)\n"
     ]
    }
   ],
   "source": [
    "current_year = pd.Timestamp.now().year\n",
    "if 'yearConstructed' in data.columns:\n",
    "    data['property_age'] = current_year - data['yearConstructed']\n",
    "    data['property_age'].fillna(data['property_age'].median(), inplace=True)"
   ]
  },
  {
   "cell_type": "markdown",
   "metadata": {},
   "source": [
    "#### Step 2: Encode Categorical Features\n",
    "#### Step 3: Convert Boolean Columns to Numeric"
   ]
  },
  {
   "cell_type": "code",
   "execution_count": 16,
   "metadata": {},
   "outputs": [],
   "source": [
    "# Choose categorical columns that need encoding\n",
    "categorical_features = ['regio1', 'regio2', 'regio3', 'typeOfFlat']\n",
    "data = pd.get_dummies(data, columns=[col for col in categorical_features if col in data.columns], drop_first=True)\n",
    "\n",
    "\n",
    "# Identify boolean columns and convert to 0/1\n",
    "bool_cols = ['newlyConst', 'balcony', 'hasKitchen', 'cellar', 'lift', 'garden']\n",
    "for col in bool_cols:\n",
    "    if col in data.columns:\n",
    "        data[col] = data[col].astype(int)"
   ]
  },
  {
   "cell_type": "markdown",
   "metadata": {},
   "source": [
    "#### Step 4: Scale Numerical Features"
   ]
  },
  {
   "cell_type": "code",
   "execution_count": 17,
   "metadata": {},
   "outputs": [],
   "source": [
    "from sklearn.preprocessing import StandardScaler\n",
    "\n",
    "# Define the numerical columns to scale\n",
    "numerical_features = [col for col in ['livingSpace', 'baseRent', 'totalRent', 'property_age'] if col in data.columns]\n",
    "\n",
    "# Initialize scaler and apply scaling\n",
    "scaler = StandardScaler()\n",
    "data[numerical_features] = scaler.fit_transform(data[numerical_features])\n"
   ]
  },
  {
   "cell_type": "markdown",
   "metadata": {},
   "source": [
    "#### Step 5: Save the Processed Data\n"
   ]
  },
  {
   "cell_type": "code",
   "execution_count": 18,
   "metadata": {},
   "outputs": [
    {
     "name": "stdout",
     "output_type": "stream",
     "text": [
      "Feature engineering complete and saved as 'processed_immo_data.csv'\n"
     ]
    }
   ],
   "source": [
    "data.to_csv('../../data/processed_immo_data.csv', index=False)\n",
    "print(\"Feature engineering complete and saved as 'processed_immo_data.csv'\")"
   ]
  }
 ],
 "metadata": {
  "kernelspec": {
   "display_name": "venv",
   "language": "python",
   "name": "python3"
  },
  "language_info": {
   "codemirror_mode": {
    "name": "ipython",
    "version": 3
   },
   "file_extension": ".py",
   "mimetype": "text/x-python",
   "name": "python",
   "nbconvert_exporter": "python",
   "pygments_lexer": "ipython3",
   "version": "3.12.2"
  }
 },
 "nbformat": 4,
 "nbformat_minor": 2
}
